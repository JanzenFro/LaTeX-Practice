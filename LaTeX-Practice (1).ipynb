{
 "cells": [
  {
   "cell_type": "code",
   "execution_count": 2,
   "id": "157da4e3",
   "metadata": {},
   "outputs": [
    {
     "name": "stdout",
     "output_type": "stream",
     "text": [
      "0.01414213562373095\n"
     ]
    }
   ],
   "source": [
    "import numpy as np\n",
    "\n",
    "def rule3(da,db):\n",
    "    dQ = np.sqrt(da**2+db**2)\n",
    "    return dQ\n",
    "\n",
    "d1 = 1.2\n",
    "d2 = 1.3\n",
    "errd1 = 0.01\n",
    "errd2 = 0.01\n",
    "errdtotal = rule3(errd1,errd2)\n",
    "print (errdtotal)"
   ]
  },
  {
   "cell_type": "code",
   "execution_count": 6,
   "id": "199fba36",
   "metadata": {},
   "outputs": [
    {
     "name": "stdout",
     "output_type": "stream",
     "text": [
      "0.00923076923076923\n"
     ]
    }
   ],
   "source": [
    "import numpy as np\n",
    "\n",
    "def rule1(da,q,a):\n",
    "    dQ = ((da*q)/a)\n",
    "    return dQ\n",
    "\n",
    "d1 = 1.2\n",
    "d2 = 1.3\n",
    "errd1 = .01\n",
    "errdtotal = rule1(errd1,d1,d2)\n",
    "print (errdtotal)\n",
    "\n"
   ]
  },
  {
   "cell_type": "code",
   "execution_count": 8,
   "id": "3ce0a79b",
   "metadata": {},
   "outputs": [
    {
     "name": "stdout",
     "output_type": "stream",
     "text": [
      "0.011142857142857144\n"
     ]
    }
   ],
   "source": [
    "import numpy as np\n",
    "\n",
    "def rule2(m,da,q,a):\n",
    "    dQ = ((m*da*q)/a)\n",
    "    return dQ\n",
    "\n",
    "d1 = 1.2\n",
    "errd2 = .01\n",
    "d3 = 1.3\n",
    "d4 = 1.4\n",
    "errdtotal = rule2(d1,errd2,d3,d4)\n",
    "print (errdtotal)\n"
   ]
  },
  {
   "cell_type": "code",
   "execution_count": 14,
   "id": "697b9958",
   "metadata": {},
   "outputs": [
    {
     "name": "stdout",
     "output_type": "stream",
     "text": [
      "The calculated error from method 2 in the ballistic pendulum lab 0.01560658388201167 which is the same value that was calculated by using a calculator.\n"
     ]
    }
   ],
   "source": [
    "import numpy as np\n",
    "\n",
    "def rule4(m,da,a,n,db,b,q):\n",
    "    dQ = np.sqrt(((m*da)/a)**2+((n*db)/b)**2)*q\n",
    "    return dQ\n",
    "\n",
    "d1 = 1\n",
    "errd2 = .550\n",
    "d2 = 153.3\n",
    "d3 = -0.5\n",
    "errd4 = 0.5\n",
    "d4 = 98.4\n",
    "d5 = 3.55\n",
    "errdtotal = rule4(d1,errd2,d2,d3,errd4,d4,d5)\n",
    "print (\"The calculated error from method 2 in the ballistic pendulum lab\", errdtotal, \"which is the same value that was calculated by using a calculator.\")\n"
   ]
  },
  {
   "cell_type": "code",
   "execution_count": 10,
   "id": "e716258e",
   "metadata": {},
   "outputs": [
    {
     "name": "stdout",
     "output_type": "stream",
     "text": [
      "The standard deviation of x = 0.17950549357115014\n",
      "The mean of x = 1.1166666666666667\n"
     ]
    }
   ],
   "source": [
    "import numpy as np\n",
    "\n",
    "x = np.array([1.1,1.3,1.4,0.9,0.95,1.05])\n",
    "std_x = np.std(x)\n",
    "print(\"The standard deviation of x =\", std_x)\n",
    "xmean = np.average(x)\n",
    "print (\"The mean of x =\", xmean)\n"
   ]
  },
  {
   "cell_type": "markdown",
   "id": "1ae641ad",
   "metadata": {},
   "source": [
    "$\\delta Q = \\sqrt{(\\delta A)^2+(\\delta B)^2}$"
   ]
  },
  {
   "cell_type": "markdown",
   "id": "87775630",
   "metadata": {},
   "source": [
    "$\\delta v = v \\sqrt{(\\frac{(\\delta M + m)}{(M + m)})^2 + (\\frac{-\\delta m}{ m})^2 + (\\frac{\\delta R}{2 R})^2 + (\\frac{\\delta(1-cos\\theta)}{2(1-cos\\theta)^2}})$"
   ]
  },
  {
   "cell_type": "code",
   "execution_count": null,
   "id": "bd7014dd",
   "metadata": {},
   "outputs": [],
   "source": []
  }
 ],
 "metadata": {
  "kernelspec": {
   "display_name": "Python 3",
   "language": "python",
   "name": "python3"
  },
  "language_info": {
   "codemirror_mode": {
    "name": "ipython",
    "version": 3
   },
   "file_extension": ".py",
   "mimetype": "text/x-python",
   "name": "python",
   "nbconvert_exporter": "python",
   "pygments_lexer": "ipython3",
   "version": "3.8.8"
  }
 },
 "nbformat": 4,
 "nbformat_minor": 5
}
